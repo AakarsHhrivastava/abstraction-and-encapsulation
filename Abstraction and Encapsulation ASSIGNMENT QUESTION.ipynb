{
 "cells": [
  {
   "cell_type": "markdown",
   "id": "8b97c13a-2d19-43c5-9581-45684a40a67b",
   "metadata": {},
   "source": [
    "### Q1. What is Abstraction in OOps? Explain with an example."
   ]
  },
  {
   "cell_type": "code",
   "execution_count": 1,
   "id": "3bc0350b-edba-479b-a270-a9d8fa5f0d73",
   "metadata": {},
   "outputs": [],
   "source": [
    "#Abstraction helps in simplifying complex systems by focusing on essential aspects, promoting code reusability, and providing a clear separation between the interface and implementation details. It allows for the creation of more modular and maintainable code"
   ]
  },
  {
   "cell_type": "code",
   "execution_count": 2,
   "id": "ba683547-a5f5-474d-aafd-17b9a91612d0",
   "metadata": {},
   "outputs": [],
   "source": [
    "from abc import ABC, abstractmethod\n",
    "\n",
    "class Shape(ABC):\n",
    "    @abstractmethod\n",
    "    def area(self):\n",
    "        pass\n",
    "\n",
    "class Rectangle(Shape):\n",
    "    def __init__(self, length, width):\n",
    "        self.length = length\n",
    "        self.width = width\n",
    "\n",
    "    def area(self):\n",
    "        return self.length * self.width\n",
    "\n",
    "class Circle(Shape):\n",
    "    def __init__(self, radius):\n",
    "        self.radius = radius\n",
    "\n",
    "    def area(self):\n",
    "        return 3.14 * self.radius * self.radius\n"
   ]
  },
  {
   "cell_type": "code",
   "execution_count": 3,
   "id": "5d997cdf-5779-48a4-a77a-f0cbb97acf55",
   "metadata": {},
   "outputs": [],
   "source": [
    "rectangle = Rectangle(5,5)\n",
    "circle = Circle(4)"
   ]
  },
  {
   "cell_type": "code",
   "execution_count": 5,
   "id": "5b7ded96-48a4-479c-af95-7b66c073f8fb",
   "metadata": {},
   "outputs": [
    {
     "data": {
      "text/plain": [
       "5"
      ]
     },
     "execution_count": 5,
     "metadata": {},
     "output_type": "execute_result"
    }
   ],
   "source": [
    "rectangle.length"
   ]
  },
  {
   "cell_type": "code",
   "execution_count": 7,
   "id": "e97a1353-2ee3-47bc-99af-6391619b5caa",
   "metadata": {},
   "outputs": [
    {
     "data": {
      "text/plain": [
       "25"
      ]
     },
     "execution_count": 7,
     "metadata": {},
     "output_type": "execute_result"
    }
   ],
   "source": [
    "rectangle.area()"
   ]
  },
  {
   "cell_type": "code",
   "execution_count": 9,
   "id": "ab3f46ba-cf15-4638-8a11-1d17032db1c0",
   "metadata": {},
   "outputs": [
    {
     "data": {
      "text/plain": [
       "50.24"
      ]
     },
     "execution_count": 9,
     "metadata": {},
     "output_type": "execute_result"
    }
   ],
   "source": [
    "circle.area()"
   ]
  },
  {
   "cell_type": "markdown",
   "id": "8b17f17e-a35f-40e7-bcb2-3dfd5ef12933",
   "metadata": {},
   "source": [
    "### Q2. Differentiate between Abstraction and Encapsulation. Explain with an example."
   ]
  },
  {
   "cell_type": "code",
   "execution_count": 10,
   "id": "50ecc85a-6814-40fe-82f2-6cd8455b80da",
   "metadata": {},
   "outputs": [],
   "source": [
    "#Abstraction focuses on providing a simplified representation of complex real-world entities by capturing only the essential characteristics relevant to the problem at hand."
   ]
  },
  {
   "cell_type": "code",
   "execution_count": 11,
   "id": "833ab2be-3a31-4fd5-8a64-8162336cebc0",
   "metadata": {},
   "outputs": [],
   "source": [
    "#Encapsulation is a mechanism that bundles data (attributes) and methods (behaviors) together within a class, hiding the internal details and providing access to them through well-defined interfaces."
   ]
  },
  {
   "cell_type": "code",
   "execution_count": 12,
   "id": "960c7dbc-9d0f-47c4-b28d-f6b70c6b0f10",
   "metadata": {},
   "outputs": [],
   "source": [
    "# example of abstraction\n",
    "\n",
    "from abc import ABC, abstractmethod\n",
    "\n",
    "class Animal(ABC):\n",
    "    @abstractmethod\n",
    "    def make_sound(self):\n",
    "        pass\n",
    "\n",
    "class Dog(Animal):\n",
    "    def make_sound(self):\n",
    "        print(\"Bark\")\n",
    "\n",
    "class Cat(Animal):\n",
    "    def make_sound(self):\n",
    "        print(\"Meow\")"
   ]
  },
  {
   "cell_type": "code",
   "execution_count": 13,
   "id": "b7742473-4229-48aa-b5c0-0886cf3f20fb",
   "metadata": {},
   "outputs": [],
   "source": [
    "dog = Dog()"
   ]
  },
  {
   "cell_type": "code",
   "execution_count": 15,
   "id": "3cc34492-d7ba-401a-a7f4-034e60049432",
   "metadata": {},
   "outputs": [
    {
     "name": "stdout",
     "output_type": "stream",
     "text": [
      "Bark\n"
     ]
    }
   ],
   "source": [
    "dog.make_sound()"
   ]
  },
  {
   "cell_type": "code",
   "execution_count": 16,
   "id": "873c4be5-8975-445f-938f-6feb41b50aa9",
   "metadata": {},
   "outputs": [],
   "source": [
    "cat = Cat()"
   ]
  },
  {
   "cell_type": "code",
   "execution_count": 18,
   "id": "3eb2f755-6129-49f9-9e9d-24ad48c9a295",
   "metadata": {},
   "outputs": [
    {
     "name": "stdout",
     "output_type": "stream",
     "text": [
      "Meow\n"
     ]
    }
   ],
   "source": [
    "cat.make_sound()"
   ]
  },
  {
   "cell_type": "code",
   "execution_count": 19,
   "id": "7a123851-9399-4bc6-a97f-10b9191f2efe",
   "metadata": {},
   "outputs": [],
   "source": [
    "# example of encapsulation\n",
    "\n",
    "class Car:\n",
    "    def __init__(self, brand, color):\n",
    "        self._brand = brand  \n",
    "        self._color = color  \n",
    "\n",
    "    def start_engine(self):\n",
    "        print(f\"The {self._color} {self._brand} car's engine is started.\")\n",
    "\n",
    "    def stop_engine(self):\n",
    "        print(f\"The {self._color} {self._brand} car's engine is stopped.\")\n"
   ]
  },
  {
   "cell_type": "code",
   "execution_count": 20,
   "id": "a11dc9b6-3ecb-4b96-a2ab-669eaa93dd72",
   "metadata": {},
   "outputs": [],
   "source": [
    "car = Car(\"Maruti\", \"white\")"
   ]
  },
  {
   "cell_type": "code",
   "execution_count": 21,
   "id": "2b7afd3f-ce74-49d9-8781-a543ac76ec07",
   "metadata": {},
   "outputs": [
    {
     "name": "stdout",
     "output_type": "stream",
     "text": [
      "The white Maruti car's engine is started.\n"
     ]
    }
   ],
   "source": [
    "car.start_engine()"
   ]
  },
  {
   "cell_type": "code",
   "execution_count": 22,
   "id": "efb21afb-d561-4c34-a5ae-ffd5d003451d",
   "metadata": {},
   "outputs": [
    {
     "name": "stdout",
     "output_type": "stream",
     "text": [
      "The white Maruti car's engine is stopped.\n"
     ]
    }
   ],
   "source": [
    "car.stop_engine()"
   ]
  },
  {
   "cell_type": "markdown",
   "id": "48c352d9-53cd-400f-bd47-778e853c1d43",
   "metadata": {},
   "source": [
    "### Q3. What is abc module in python? Why is it used?"
   ]
  },
  {
   "cell_type": "code",
   "execution_count": 23,
   "id": "76df9bfd-3b9d-4caf-a630-e4945a0cc7b4",
   "metadata": {},
   "outputs": [],
   "source": [
    "#The abc module in Python stands for \"Abstract Base Classes\". It is a built-in module that provides mechanisms for defining abstract base classes (ABCs) in Python. ABCs allow you to define common interfaces and establish a hierarchy of classes, providing a way to enforce certain behavior and structure in subclasses."
   ]
  },
  {
   "cell_type": "code",
   "execution_count": 24,
   "id": "994ebb11-d8ad-449c-94b9-2e4b1294fa2e",
   "metadata": {},
   "outputs": [],
   "source": [
    "#The abc module is used for the following purposes:\n",
    "#1 Defining Abstract Base Classes (ABCs)\n",
    "#2 Enforcing Method Implementations\n",
    "#3 Checking Subclass Relationships"
   ]
  },
  {
   "cell_type": "markdown",
   "id": "076e7ac2-eeaa-4cc3-9499-5707dfac73cf",
   "metadata": {},
   "source": [
    "### Q4. How can we achieve data abstraction?"
   ]
  },
  {
   "cell_type": "code",
   "execution_count": 25,
   "id": "78f50813-a0eb-4a77-b3a2-a7d579ea865b",
   "metadata": {},
   "outputs": [],
   "source": [
    "#Data abstraction can be achieved in Python through the following mechanisms:\n",
    "#1 Classes and Objects\n",
    "#2 Access Modifiers\n",
    "#3 Getters and Setters\n",
    "#4 Properties\n"
   ]
  },
  {
   "cell_type": "markdown",
   "id": "40bc16ec-ffd7-4649-a6dd-4bf823958654",
   "metadata": {},
   "source": [
    "### Q5. Can we create an instance of an abstract class? Explain your answer."
   ]
  },
  {
   "cell_type": "code",
   "execution_count": 26,
   "id": "9109e355-cf8e-4ae6-8268-ad906a3a3116",
   "metadata": {},
   "outputs": [],
   "source": [
    "#No, we cannot create an instance of an abstract class in Python."
   ]
  },
  {
   "cell_type": "code",
   "execution_count": null,
   "id": "97ec51d6-81e2-4efb-b04d-383fcd4a18d2",
   "metadata": {},
   "outputs": [],
   "source": [
    "#"
   ]
  }
 ],
 "metadata": {
  "kernelspec": {
   "display_name": "Python 3 (ipykernel)",
   "language": "python",
   "name": "python3"
  },
  "language_info": {
   "codemirror_mode": {
    "name": "ipython",
    "version": 3
   },
   "file_extension": ".py",
   "mimetype": "text/x-python",
   "name": "python",
   "nbconvert_exporter": "python",
   "pygments_lexer": "ipython3",
   "version": "3.10.8"
  }
 },
 "nbformat": 4,
 "nbformat_minor": 5
}
